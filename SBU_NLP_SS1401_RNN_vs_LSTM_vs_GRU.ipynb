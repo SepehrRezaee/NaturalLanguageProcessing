{
  "nbformat": 4,
  "nbformat_minor": 0,
  "metadata": {
    "accelerator": "GPU",
    "colab": {
      "provenance": []
    },
    "kernelspec": {
      "display_name": "Python 3",
      "language": "python",
      "name": "python3"
    },
    "language_info": {
      "codemirror_mode": {
        "name": "ipython",
        "version": 3
      },
      "file_extension": ".py",
      "mimetype": "text/x-python",
      "name": "python",
      "nbconvert_exporter": "python",
      "pygments_lexer": "ipython3",
      "version": "3.6.3"
    }
  },
  "cells": [
    {
      "cell_type": "markdown",
      "source": [
        "<img src=\"https://upload.wikimedia.org/wikipedia/commons/thumb/6/6a/Sbu-logo.svg/1200px-Sbu-logo.svg.png\" alt=\"keras\" width=\"150\" height=\"150\">\n",
        "\n",
        "<h1 align=center><font size = 7>NLP Summer School</font></h1>\n",
        "<h1 align=center><font size = 6>NLP Research Lab</font></h1>\n",
        "<h1 align=center><font size = 5>Shahid Beheshti University</font></h1>\n",
        "<h1 align=center><font size = 4> July 2022 </font></h1>"
      ],
      "metadata": {
        "id": "xlp118njpxO9"
      }
    },
    {
      "cell_type": "markdown",
      "metadata": {
        "id": "46Q4FTAhpxKt"
      },
      "source": [
        "<a id=section1></a>"
      ]
    },
    {
      "cell_type": "markdown",
      "source": [
        "### Original Repo:\n",
        "?????"
      ],
      "metadata": {
        "id": "SihUHeDvqrKj"
      }
    },
    {
      "cell_type": "code",
      "metadata": {
        "id": "ItkIWd-QuyJn"
      },
      "source": [
        "# Import tensorflow 2.x\n",
        "# This code block will only work in Google Colab.\n",
        "try:\n",
        "    # %tensorflow_version only exists in Colab.\n",
        "    %tensorflow_version 2.x\n",
        "except Exception:\n",
        "    pass"
      ],
      "execution_count": null,
      "outputs": []
    },
    {
      "cell_type": "code",
      "metadata": {
        "id": "k-UBRTzIMxd-",
        "colab": {
          "base_uri": "https://localhost:8080/"
        },
        "outputId": "8167badd-564e-486e-9973-440a3f0cd18f"
      },
      "source": [
        "# If current version of numpy gives an error while running the dataset below, then run this cell.\n",
        "# Otherwise skip this cell.\n",
        "\n",
        "!pip install numpy==1.14.2\n",
        "\n",
        "# Restart the session after installing and don't run this cell again after restarting the session"
      ],
      "execution_count": null,
      "outputs": [
        {
          "output_type": "stream",
          "name": "stdout",
          "text": [
            "Looking in indexes: https://pypi.org/simple, https://us-python.pkg.dev/colab-wheels/public/simple/\n",
            "Collecting numpy==1.14.2\n",
            "  Downloading numpy-1.14.2.zip (4.9 MB)\n",
            "\u001b[K     |████████████████████████████████| 4.9 MB 5.2 MB/s \n",
            "\u001b[?25hBuilding wheels for collected packages: numpy\n",
            "  Building wheel for numpy (setup.py) ... \u001b[?25lerror\n",
            "\u001b[31m  ERROR: Failed building wheel for numpy\u001b[0m\n",
            "\u001b[?25h  Running setup.py clean for numpy\n",
            "\u001b[31m  ERROR: Failed cleaning build dir for numpy\u001b[0m\n",
            "Failed to build numpy\n",
            "Installing collected packages: numpy\n",
            "  Attempting uninstall: numpy\n",
            "    Found existing installation: numpy 1.21.6\n",
            "    Uninstalling numpy-1.21.6:\n",
            "      Successfully uninstalled numpy-1.21.6\n",
            "    Running setup.py install for numpy ... \u001b[?25l\u001b[?25herror\n",
            "  Rolling back uninstall of numpy\n",
            "  Moving to /usr/bin/f2py\n",
            "   from /tmp/pip-uninstall-g1aup_g9/f2py\n",
            "  Moving to /usr/local/bin/f2py\n",
            "   from /tmp/pip-uninstall-olvkp2ds/f2py\n",
            "  Moving to /usr/local/bin/f2py3\n",
            "   from /tmp/pip-uninstall-olvkp2ds/f2py3\n",
            "  Moving to /usr/local/bin/f2py3.7\n",
            "   from /tmp/pip-uninstall-olvkp2ds/f2py3.7\n",
            "  Moving to /usr/local/lib/python3.7/dist-packages/numpy-1.21.6.dist-info/\n",
            "   from /usr/local/lib/python3.7/dist-packages/~umpy-1.21.6.dist-info\n",
            "  Moving to /usr/local/lib/python3.7/dist-packages/numpy.libs/\n",
            "   from /usr/local/lib/python3.7/dist-packages/~umpy.libs\n",
            "  Moving to /usr/local/lib/python3.7/dist-packages/numpy/\n",
            "   from /usr/local/lib/python3.7/dist-packages/~umpy\n",
            "\u001b[31mERROR: Command errored out with exit status 1: /usr/bin/python3 -u -c 'import io, os, sys, setuptools, tokenize; sys.argv[0] = '\"'\"'/tmp/pip-install-pvn5guwx/numpy_fcc66ec166f74e0c9d24792e1d3eb642/setup.py'\"'\"'; __file__='\"'\"'/tmp/pip-install-pvn5guwx/numpy_fcc66ec166f74e0c9d24792e1d3eb642/setup.py'\"'\"';f = getattr(tokenize, '\"'\"'open'\"'\"', open)(__file__) if os.path.exists(__file__) else io.StringIO('\"'\"'from setuptools import setup; setup()'\"'\"');code = f.read().replace('\"'\"'\\r\\n'\"'\"', '\"'\"'\\n'\"'\"');f.close();exec(compile(code, __file__, '\"'\"'exec'\"'\"'))' install --record /tmp/pip-record-sirls5q4/install-record.txt --single-version-externally-managed --compile --install-headers /usr/local/include/python3.7/numpy Check the logs for full command output.\u001b[0m\n"
          ]
        }
      ]
    },
    {
      "cell_type": "code",
      "metadata": {
        "id": "n6CY0mZqM-wN",
        "colab": {
          "base_uri": "https://localhost:8080/"
        },
        "outputId": "10388f2a-b61c-4c31-8787-d9d9a2af6285"
      },
      "source": [
        "from tensorflow.keras.datasets import imdb\n",
        "max_features = 10000\n",
        "print('Loading data...')\n",
        "(input_train, y_train), (input_test, y_test) = imdb.load_data(num_words=max_features)\n",
        "print(len(input_train), 'train sequences')\n",
        "print(len(input_test), 'test sequences')"
      ],
      "execution_count": null,
      "outputs": [
        {
          "output_type": "stream",
          "name": "stdout",
          "text": [
            "Loading data...\n",
            "Downloading data from https://storage.googleapis.com/tensorflow/tf-keras-datasets/imdb.npz\n",
            "17465344/17464789 [==============================] - 0s 0us/step\n",
            "17473536/17464789 [==============================] - 0s 0us/step\n",
            "25000 train sequences\n",
            "25000 test sequences\n"
          ]
        }
      ]
    },
    {
      "cell_type": "code",
      "metadata": {
        "id": "av0mnyhMQfJ2",
        "colab": {
          "base_uri": "https://localhost:8080/"
        },
        "outputId": "81758151-3895-473b-95b3-cf7b8f9a2082"
      },
      "source": [
        "print('1st review in training data:\\n')\n",
        "print(input_train[0])"
      ],
      "execution_count": null,
      "outputs": [
        {
          "output_type": "stream",
          "name": "stdout",
          "text": [
            "1st review in training data:\n",
            "\n",
            "[1, 14, 22, 16, 43, 530, 973, 1622, 1385, 65, 458, 4468, 66, 3941, 4, 173, 36, 256, 5, 25, 100, 43, 838, 112, 50, 670, 2, 9, 35, 480, 284, 5, 150, 4, 172, 112, 167, 2, 336, 385, 39, 4, 172, 4536, 1111, 17, 546, 38, 13, 447, 4, 192, 50, 16, 6, 147, 2025, 19, 14, 22, 4, 1920, 4613, 469, 4, 22, 71, 87, 12, 16, 43, 530, 38, 76, 15, 13, 1247, 4, 22, 17, 515, 17, 12, 16, 626, 18, 2, 5, 62, 386, 12, 8, 316, 8, 106, 5, 4, 2223, 5244, 16, 480, 66, 3785, 33, 4, 130, 12, 16, 38, 619, 5, 25, 124, 51, 36, 135, 48, 25, 1415, 33, 6, 22, 12, 215, 28, 77, 52, 5, 14, 407, 16, 82, 2, 8, 4, 107, 117, 5952, 15, 256, 4, 2, 7, 3766, 5, 723, 36, 71, 43, 530, 476, 26, 400, 317, 46, 7, 4, 2, 1029, 13, 104, 88, 4, 381, 15, 297, 98, 32, 2071, 56, 26, 141, 6, 194, 7486, 18, 4, 226, 22, 21, 134, 476, 26, 480, 5, 144, 30, 5535, 18, 51, 36, 28, 224, 92, 25, 104, 4, 226, 65, 16, 38, 1334, 88, 12, 16, 283, 5, 16, 4472, 113, 103, 32, 15, 16, 5345, 19, 178, 32]\n"
          ]
        }
      ]
    },
    {
      "cell_type": "code",
      "metadata": {
        "id": "RH-krZFqQkq4",
        "colab": {
          "base_uri": "https://localhost:8080/"
        },
        "outputId": "7470df5f-571c-40c8-991e-fcacf921c491"
      },
      "source": [
        "print('Sentiment of 1st review in training data:\\n')\n",
        "print(y_train[0])"
      ],
      "execution_count": null,
      "outputs": [
        {
          "output_type": "stream",
          "name": "stdout",
          "text": [
            "Sentiment of 1st review in training data:\n",
            "\n",
            "1\n"
          ]
        }
      ]
    },
    {
      "cell_type": "code",
      "metadata": {
        "id": "jO5ni0CDSkGp",
        "colab": {
          "base_uri": "https://localhost:8080/"
        },
        "outputId": "6aeaf87d-a200-46bb-a283-ca6e39ae0b57"
      },
      "source": [
        "word_index = imdb.get_word_index()\n",
        "reverse_word_index = dict(\n",
        "[(value, key) for (key, value) in word_index.items()])\n",
        "decoded_review = ' '.join(\n",
        "[reverse_word_index.get(i - 3, '?') for i in input_train[0]])\n",
        "print('1st review in training data actually looks like:\\n')\n",
        "print(decoded_review)"
      ],
      "execution_count": null,
      "outputs": [
        {
          "output_type": "stream",
          "name": "stdout",
          "text": [
            "Downloading data from https://storage.googleapis.com/tensorflow/tf-keras-datasets/imdb_word_index.json\n",
            "1646592/1641221 [==============================] - 0s 0us/step\n",
            "1654784/1641221 [==============================] - 0s 0us/step\n",
            "1st review in training data actually looks like:\n",
            "\n",
            "? this film was just brilliant casting location scenery story direction everyone's really suited the part they played and you could just imagine being there robert ? is an amazing actor and now the same being director ? father came from the same scottish island as myself so i loved the fact there was a real connection with this film the witty remarks throughout the film were great it was just brilliant so much that i bought the film as soon as it was released for ? and would recommend it to everyone to watch and the fly fishing was amazing really cried at the end it was so sad and you know what they say if you cry at a film it must have been good and this definitely was also ? to the two little boy's that played the ? of norman and paul they were just brilliant children are often left out of the ? list i think because the stars that play them all grown up are such a big profile for the whole film but these children are amazing and should be praised for what they have done don't you think the whole story was so lovely because it was true and was someone's life after all that was shared with us all\n"
          ]
        }
      ]
    },
    {
      "cell_type": "code",
      "metadata": {
        "id": "RT6SkviaNCVd",
        "colab": {
          "base_uri": "https://localhost:8080/"
        },
        "outputId": "5483c1c2-b34f-4f41-c015-ca7b8f01f925"
      },
      "source": [
        "from tensorflow.keras.preprocessing import sequence\n",
        "maxlen = 500\n",
        "print('Pad sequences (samples x time)')\n",
        "input_train = sequence.pad_sequences(input_train, maxlen=maxlen)\n",
        "input_test = sequence.pad_sequences(input_test, maxlen=maxlen)\n",
        "print('input_train shape:', input_train.shape)\n",
        "print('input_test shape:', input_test.shape)"
      ],
      "execution_count": null,
      "outputs": [
        {
          "output_type": "stream",
          "name": "stdout",
          "text": [
            "Pad sequences (samples x time)\n",
            "input_train shape: (25000, 500)\n",
            "input_test shape: (25000, 500)\n"
          ]
        }
      ]
    },
    {
      "cell_type": "code",
      "source": [
        "max_features"
      ],
      "metadata": {
        "colab": {
          "base_uri": "https://localhost:8080/"
        },
        "id": "lqicyW-brUKS",
        "outputId": "d34548b6-5564-4d29-917f-3f062f5c1db3"
      },
      "execution_count": null,
      "outputs": [
        {
          "output_type": "execute_result",
          "data": {
            "text/plain": [
              "10000"
            ]
          },
          "metadata": {},
          "execution_count": 8
        }
      ]
    },
    {
      "cell_type": "code",
      "metadata": {
        "id": "5sRZv_QoNg3W"
      },
      "source": [
        "from tensorflow.keras.models import Sequential\n",
        "from tensorflow.keras.layers import Dense, Embedding, Dense, SimpleRNN\n",
        "model = Sequential()\n",
        "model.add(Embedding(max_features, 32))\n",
        "model.add(SimpleRNN(32))\n",
        "model.add(Dense(1, activation='tanh'))\n",
        "model.compile(optimizer='Adam', loss='binary_crossentropy', metrics=['acc'])\n"
      ],
      "execution_count": null,
      "outputs": []
    },
    {
      "cell_type": "code",
      "metadata": {
        "id": "Pc3KPoUMZhMT",
        "colab": {
          "base_uri": "https://localhost:8080/"
        },
        "outputId": "5d355801-9c1e-4b10-b683-73651b1c180d"
      },
      "source": [
        "%%time\n",
        "history = model.fit(input_train, y_train,\n",
        "epochs=10,\n",
        "batch_size=128,\n",
        "validation_split=0.2)"
      ],
      "execution_count": null,
      "outputs": [
        {
          "output_type": "stream",
          "name": "stdout",
          "text": [
            "Epoch 1/10\n",
            "157/157 [==============================] - 78s 458ms/step - loss: 1.0355 - acc: 0.5300 - val_loss: 0.6736 - val_acc: 0.5652\n",
            "Epoch 2/10\n",
            "157/157 [==============================] - 71s 452ms/step - loss: 0.6159 - acc: 0.6771 - val_loss: 0.6439 - val_acc: 0.6248\n",
            "Epoch 3/10\n",
            "157/157 [==============================] - 72s 456ms/step - loss: 0.5784 - acc: 0.7444 - val_loss: 0.7011 - val_acc: 0.5312\n",
            "Epoch 4/10\n",
            "157/157 [==============================] - 70s 445ms/step - loss: 0.5798 - acc: 0.7528 - val_loss: 0.6161 - val_acc: 0.6862\n",
            "Epoch 5/10\n",
            "157/157 [==============================] - 77s 491ms/step - loss: 0.4127 - acc: 0.8654 - val_loss: 0.7061 - val_acc: 0.7950\n",
            "Epoch 6/10\n",
            "157/157 [==============================] - 72s 455ms/step - loss: 0.4017 - acc: 0.8320 - val_loss: 0.8149 - val_acc: 0.7816\n",
            "Epoch 7/10\n",
            "157/157 [==============================] - 70s 447ms/step - loss: 0.2422 - acc: 0.9403 - val_loss: 0.8624 - val_acc: 0.8050\n",
            "Epoch 8/10\n",
            "157/157 [==============================] - 70s 446ms/step - loss: 0.1635 - acc: 0.9695 - val_loss: 0.8642 - val_acc: 0.8094\n",
            "Epoch 9/10\n",
            "157/157 [==============================] - 69s 438ms/step - loss: 0.1169 - acc: 0.9833 - val_loss: 0.9428 - val_acc: 0.8104\n",
            "Epoch 10/10\n",
            "157/157 [==============================] - 69s 438ms/step - loss: 0.0930 - acc: 0.9894 - val_loss: 0.8912 - val_acc: 0.8222\n",
            "CPU times: user 17min 14s, sys: 2min 4s, total: 19min 18s\n",
            "Wall time: 11min 57s\n"
          ]
        }
      ]
    },
    {
      "cell_type": "code",
      "metadata": {
        "id": "WL2jo7QENm3r",
        "colab": {
          "base_uri": "https://localhost:8080/",
          "height": 545
        },
        "outputId": "a6285f13-ccd8-4702-e889-72b5be784a62"
      },
      "source": [
        "import matplotlib.pyplot as plt\n",
        "acc = history.history['acc']\n",
        "val_acc = history.history['val_acc']\n",
        "loss = history.history['loss']\n",
        "val_loss = history.history['val_loss']\n",
        "epochs = range(1, len(acc) + 1)\n",
        "plt.plot(epochs, acc, 'bo', label='Training acc')\n",
        "plt.plot(epochs, val_acc, 'b', label='Validation acc')\n",
        "plt.title('Training and validation accuracy')\n",
        "plt.legend()\n",
        "plt.figure()\n",
        "plt.plot(epochs, loss, 'bo', label='Training loss')\n",
        "plt.plot(epochs, val_loss, 'b', label='Validation loss')\n",
        "plt.title('Training and validation loss')\n",
        "plt.legend()\n",
        "plt.show()"
      ],
      "execution_count": null,
      "outputs": [
        {
          "output_type": "display_data",
          "data": {
            "text/plain": [
              "<Figure size 432x288 with 1 Axes>"
            ],
            "image/png": "[encoded data removed]"
          },
          "metadata": {
            "needs_background": "light"
          }
        },
        {
          "output_type": "display_data",
          "data": {
            "text/plain": [
              "<Figure size 432x288 with 1 Axes>"
            ],
            "image/png": "[encoded data removed]"
          },
          "metadata": {
            "needs_background": "light"
          }
        }
      ]
    },
    {
      "cell_type": "code",
      "metadata": {
        "id": "VMpDc1WNOTWh"
      },
      "source": [
        "from tensorflow.keras.layers import LSTM\n",
        "model = Sequential()\n",
        "model.add(Embedding(max_features, 32))\n",
        "model.add(LSTM(32, dropout=0.5, return_sequences=True))\n",
        "model.add(LSTM(32, dropout=0.5, return_sequences=True))\n",
        "model.add(LSTM(32, dropout=0.5, return_sequences=True))\n",
        "model.add(LSTM(32))\n",
        "model.add(Dense(1, activation='sigmoid'))\n",
        "model.compile(optimizer='Adam',\n",
        "loss='binary_crossentropy',\n",
        "metrics=['acc'])"
      ],
      "execution_count": null,
      "outputs": []
    },
    {
      "cell_type": "code",
      "metadata": {
        "id": "5E1Z6Nn1ALLc",
        "colab": {
          "base_uri": "https://localhost:8080/"
        },
        "outputId": "d23fe163-18da-484d-cbc5-4603abf667c3"
      },
      "source": [
        "%%time\n",
        "history = model.fit(input_train, y_train,\n",
        "epochs=10,\n",
        "batch_size=128,\n",
        "validation_split=0.2)"
      ],
      "execution_count": null,
      "outputs": [
        {
          "output_type": "stream",
          "name": "stdout",
          "text": [
            "Epoch 1/10\n",
            "157/157 [==============================] - 18s 79ms/step - loss: 0.5135 - acc: 0.7312 - val_loss: 0.3266 - val_acc: 0.8690\n",
            "Epoch 2/10\n",
            "157/157 [==============================] - 12s 74ms/step - loss: 0.2821 - acc: 0.8887 - val_loss: 0.3163 - val_acc: 0.8752\n",
            "Epoch 3/10\n",
            "157/157 [==============================] - 11s 70ms/step - loss: 0.2134 - acc: 0.9210 - val_loss: 0.3073 - val_acc: 0.8804\n",
            "Epoch 4/10\n",
            "157/157 [==============================] - 11s 70ms/step - loss: 0.1826 - acc: 0.9320 - val_loss: 0.3430 - val_acc: 0.8780\n",
            "Epoch 5/10\n",
            "157/157 [==============================] - 11s 70ms/step - loss: 0.1556 - acc: 0.9431 - val_loss: 0.3465 - val_acc: 0.8744\n",
            "Epoch 6/10\n",
            "157/157 [==============================] - 11s 70ms/step - loss: 0.1316 - acc: 0.9531 - val_loss: 0.3862 - val_acc: 0.8744\n",
            "Epoch 7/10\n",
            "157/157 [==============================] - 11s 70ms/step - loss: 0.1125 - acc: 0.9611 - val_loss: 0.4054 - val_acc: 0.8756\n",
            "Epoch 8/10\n",
            "157/157 [==============================] - 11s 70ms/step - loss: 0.0980 - acc: 0.9665 - val_loss: 0.4055 - val_acc: 0.8716\n",
            "Epoch 9/10\n",
            "157/157 [==============================] - 12s 74ms/step - loss: 0.0892 - acc: 0.9686 - val_loss: 0.4902 - val_acc: 0.8706\n",
            "Epoch 10/10\n",
            "157/157 [==============================] - 11s 70ms/step - loss: 0.0894 - acc: 0.9696 - val_loss: 0.4576 - val_acc: 0.8730\n",
            "CPU times: user 2min, sys: 2.7 s, total: 2min 3s\n",
            "Wall time: 1min 58s\n"
          ]
        }
      ]
    },
    {
      "cell_type": "markdown",
      "metadata": {
        "id": "8cKoTk3Dq0hC"
      },
      "source": [
        "<a id=section7></a>"
      ]
    },
    {
      "cell_type": "code",
      "metadata": {
        "id": "P1mFSfbWPbwd",
        "colab": {
          "base_uri": "https://localhost:8080/",
          "height": 545
        },
        "outputId": "4ba3396b-4a7d-46d7-85ce-d0a81ba04b99"
      },
      "source": [
        "import matplotlib.pyplot as plt\n",
        "acc = history.history['acc']\n",
        "val_acc = history.history['val_acc']\n",
        "loss = history.history['loss']\n",
        "val_loss = history.history['val_loss']\n",
        "epochs = range(1, len(acc) + 1)\n",
        "plt.plot(epochs, acc, 'bo', label='Training acc')\n",
        "plt.plot(epochs, val_acc, 'b', label='Validation acc')\n",
        "plt.title('Training and validation accuracy')\n",
        "plt.legend()\n",
        "plt.figure()\n",
        "plt.plot(epochs, loss, 'bo', label='Training loss')\n",
        "plt.plot(epochs, val_loss, 'b', label='Validation loss')\n",
        "plt.title('Training and validation loss')\n",
        "plt.legend()\n",
        "plt.show()"
      ],
      "execution_count": null,
      "outputs": [
        {
          "output_type": "display_data",
          "data": {
            "text/plain": [
              "<Figure size 432x288 with 1 Axes>"
            ],
            "image/png": "[encoded data removed]"
          },
          "metadata": {
            "needs_background": "light"
          }
        },
        {
          "output_type": "display_data",
          "data": {
            "text/plain": [
              "<Figure size 432x288 with 1 Axes>"
            ],
            "image/png": "[encoded data removed]"
          },
          "metadata": {
            "needs_background": "light"
          }
        }
      ]
    },
    {
      "cell_type": "code",
      "metadata": {
        "id": "T7xfD8OlyOL1"
      },
      "source": [
        "from tensorflow.keras.layers import GRU\n",
        "from tensorflow.keras.optimizers import Adam\n",
        "model = Sequential()\n",
        "model.add(Embedding(max_features, 32))\n",
        "model.add(GRU(32, dropout=0.55, return_sequences=True))\n",
        "model.add(GRU(32, dropout=0.55, return_sequences=True))\n",
        "model.add(GRU(32, dropout=0.55, return_sequences=True))\n",
        "model.add(GRU(32))\n",
        "model.add(Dense(1, activation='sigmoid'))\n",
        "opt = Adam(learning_rate=0.01)\n",
        "model.compile(optimizer=opt,\n",
        "loss='binary_crossentropy',\n",
        "metrics=['acc'])"
      ],
      "execution_count": null,
      "outputs": []
    },
    {
      "cell_type": "code",
      "metadata": {
        "id": "w4Eza-BpAQNA",
        "colab": {
          "base_uri": "https://localhost:8080/"
        },
        "outputId": "020b07de-93ae-4489-aef1-02947018c318"
      },
      "source": [
        "%%time\n",
        "history = model.fit(input_train, y_train,\n",
        "epochs=10,\n",
        "batch_size=128,\n",
        "validation_split=0.2)"
      ],
      "execution_count": null,
      "outputs": [
        {
          "output_type": "stream",
          "name": "stdout",
          "text": [
            "Epoch 1/10\n",
            "157/157 [==============================] - 56s 79ms/step - loss: 0.5107 - acc: 0.7400 - val_loss: 0.3577 - val_acc: 0.8608\n",
            "Epoch 2/10\n",
            "157/157 [==============================] - 11s 71ms/step - loss: 0.2658 - acc: 0.8941 - val_loss: 0.2750 - val_acc: 0.8936\n",
            "Epoch 3/10\n",
            "157/157 [==============================] - 12s 75ms/step - loss: 0.1798 - acc: 0.9317 - val_loss: 0.3426 - val_acc: 0.8774\n",
            "Epoch 4/10\n",
            "157/157 [==============================] - 11s 71ms/step - loss: 0.1352 - acc: 0.9512 - val_loss: 0.3049 - val_acc: 0.8938\n",
            "Epoch 5/10\n",
            "157/157 [==============================] - 11s 71ms/step - loss: 0.1193 - acc: 0.9571 - val_loss: 0.3194 - val_acc: 0.8870\n",
            "Epoch 6/10\n",
            "157/157 [==============================] - 11s 70ms/step - loss: 0.1008 - acc: 0.9646 - val_loss: 0.3504 - val_acc: 0.8894\n",
            "Epoch 7/10\n",
            "157/157 [==============================] - 11s 71ms/step - loss: 0.0890 - acc: 0.9671 - val_loss: 0.4866 - val_acc: 0.8746\n",
            "Epoch 8/10\n",
            "157/157 [==============================] - 11s 70ms/step - loss: 0.0786 - acc: 0.9718 - val_loss: 0.4677 - val_acc: 0.8654\n",
            "Epoch 9/10\n",
            "157/157 [==============================] - 11s 71ms/step - loss: 0.0784 - acc: 0.9729 - val_loss: 0.4918 - val_acc: 0.8752\n",
            "Epoch 10/10\n",
            "157/157 [==============================] - 12s 74ms/step - loss: 0.0703 - acc: 0.9760 - val_loss: 0.4284 - val_acc: 0.8864\n",
            "CPU times: user 2min 1s, sys: 2.49 s, total: 2min 3s\n",
            "Wall time: 2min 37s\n"
          ]
        }
      ]
    },
    {
      "cell_type": "markdown",
      "metadata": {
        "id": "UYVONmxGa1OE"
      },
      "source": [
        "<a id=section9></a>"
      ]
    },
    {
      "cell_type": "code",
      "metadata": {
        "id": "AzyTmORRyS1a",
        "scrolled": false,
        "colab": {
          "base_uri": "https://localhost:8080/",
          "height": 545
        },
        "outputId": "ac03ad5c-c06b-473f-b394-8f37a49b2d33"
      },
      "source": [
        "acc = history.history['acc']\n",
        "val_acc = history.history['val_acc']\n",
        "loss = history.history['loss']\n",
        "val_loss = history.history['val_loss']\n",
        "epochs = range(1, len(acc) + 1)\n",
        "plt.plot(epochs, acc, 'bo', label='Training acc')\n",
        "plt.plot(epochs, val_acc, 'b', label='Validation acc')\n",
        "plt.title('Training and validation accuracy')\n",
        "plt.legend()\n",
        "plt.figure()\n",
        "plt.plot(epochs, loss, 'bo', label='Training loss')\n",
        "plt.plot(epochs, val_loss, 'b', label='Validation loss')\n",
        "plt.title('Training and validation loss')\n",
        "plt.legend()\n",
        "plt.show()"
      ],
      "execution_count": null,
      "outputs": [
        {
          "output_type": "display_data",
          "data": {
            "text/plain": [
              "<Figure size 432x288 with 1 Axes>"
            ],
            "image/png": "[encoded data removed]"
          },
          "metadata": {
            "needs_background": "light"
          }
        },
        {
          "output_type": "display_data",
          "data": {
            "text/plain": [
              "<Figure size 432x288 with 1 Axes>"
            ],
            "image/png": "[encoded data removed]"
          },
          "metadata": {
            "needs_background": "light"
          }
        }
      ]
    },
    {
      "cell_type": "markdown",
      "metadata": {
        "id": "3Q54pOgke9DU"
      },
      "source": [
        "| Model | CPU Time for 10 Epochs(Google Colab) | Loss on Training Data | Loss on Validation Data | Accuracy on Training Data | Accuracy on Validation Data |\n",
        "| --- | --- | --- | --- | --- | --- |\n",
        "| SimpleRNN Model | 6 Minutes | 0.2971 | 0.3501 | 0.8814 | 0.8610 |\n",
        "| LSTM Model | 23 Minutes | 0.1928 | 0.3066 | 0.9279 | 0.8940 |\n",
        "| GRU Model | 18 Minues | 0.1640 | 0.3279 | 0.9410 | 0.8796 |"
      ]
    },
    {
      "cell_type": "markdown",
      "source": [
        "what happens if do so with multi-layer ones?"
      ],
      "metadata": {
        "id": "q1Fg_tO9sTTB"
      }
    },
    {
      "cell_type": "code",
      "source": [],
      "metadata": {
        "id": "ncnbFuZ8sUVN"
      },
      "execution_count": null,
      "outputs": []
    }
  ]
}