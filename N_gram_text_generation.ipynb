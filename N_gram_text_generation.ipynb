{
  "cells": [
    {
      "cell_type": "markdown",
      "id": "6596167c",
      "metadata": {
        "id": "6596167c"
      },
      "source": [
        "<img src=\"https://upload.wikimedia.org/wikipedia/commons/thumb/6/6a/Sbu-logo.svg/1200px-Sbu-logo.svg.png\" alt=\"keras\" width=\"150\" height=\"150\">\n",
        "\n",
        "<h1 align=center><font size = 7>NLP Summer school</font></h1>\n",
        "<h1 align=center><font size = 6>NLP Research Lab</font></h1>\n",
        "<h1 align=center><font size = 5>Shahid Beheshti University</font></h1>\n",
        "<h1 align=center><font size = 4> July 2022 </font></h1>"
      ]
    },
    {
      "cell_type": "markdown",
      "id": "c417e528",
      "metadata": {
        "id": "c417e528"
      },
      "source": [
        "## Original Repo\n",
        "https://github.com/olegborisovv/NGram_LanguageModel\n",
        "\n",
        "With the great thanks to olegborisovv"
      ]
    },
    {
      "cell_type": "code",
      "execution_count": null,
      "id": "4f2db283",
      "metadata": {
        "id": "4f2db283"
      },
      "outputs": [],
      "source": [
        "import string\n",
        "import random\n",
        "import time\n",
        "from typing import List"
      ]
    },
    {
      "cell_type": "code",
      "execution_count": null,
      "id": "e3513278",
      "metadata": {
        "id": "e3513278"
      },
      "outputs": [],
      "source": [
        "# ideally we would use some smart text tokenizer, but for simplicity use this one\n",
        "def tokenize(text: str) -> List[str]:\n",
        "    \"\"\"\n",
        "    :param text: Takes input sentence\n",
        "    :return: tokenized sentence\n",
        "    \"\"\"\n",
        "    for punct in string.punctuation:\n",
        "        text = text.replace(punct, ' '+punct+' ')\n",
        "    t = text.split()\n",
        "\n",
        "    return t"
      ]
    },
    {
      "cell_type": "code",
      "execution_count": null,
      "id": "e8a8d02d",
      "metadata": {
        "id": "e8a8d02d"
      },
      "outputs": [],
      "source": [
        "def get_ngrams(n: int, tokens: list) -> list:\n",
        "    \"\"\"\n",
        "    :param n: n-gram size\n",
        "    :param tokens: tokenized sentence\n",
        "    :return: list of ngrams\n",
        "\n",
        "    ngrams of tuple form: ((previous wordS!), target word)\n",
        "    \"\"\"\n",
        "    # tokens.append('<END>')\n",
        "    tokens = (n-1)*['<START>']+tokens\n",
        "    l = [(tuple([tokens[i-p-1] for p in reversed(range(n-1))]), tokens[i]) for i in range(n-1, len(tokens))]\n",
        "    return l"
      ]
    },
    {
      "cell_type": "code",
      "execution_count": null,
      "id": "e7db58d5",
      "metadata": {
        "id": "e7db58d5"
      },
      "outputs": [],
      "source": [
        "class NgramModel(object):\n",
        "\n",
        "    def __init__(self, n):\n",
        "        self.n = n\n",
        "\n",
        "        # dictionary that keeps list of candidate words given context\n",
        "        self.context = {}\n",
        "\n",
        "        # keeps track of how many times ngram has appeared in the text before\n",
        "        self.ngram_counter = {}\n",
        "\n",
        "    def update(self, sentence: str) -> None:\n",
        "        \"\"\"\n",
        "        Updates Language Model\n",
        "        :param sentence: input text\n",
        "        \"\"\"\n",
        "        n = self.n\n",
        "        ngrams = get_ngrams(n, tokenize(sentence))\n",
        "        for ngram in ngrams:\n",
        "            if ngram in self.ngram_counter:\n",
        "                self.ngram_counter[ngram] += 1.0\n",
        "            else:\n",
        "                self.ngram_counter[ngram] = 1.0\n",
        "\n",
        "            prev_words, target_word = ngram\n",
        "            if prev_words in self.context:\n",
        "                self.context[prev_words].append(target_word)\n",
        "            else:\n",
        "                self.context[prev_words] = [target_word]\n",
        "\n",
        "    def prob(self, context, token):\n",
        "        \"\"\"\n",
        "        Calculates probability of a candidate token to be generated given a context\n",
        "        :return: conditional probability\n",
        "        \"\"\"\n",
        "        try:\n",
        "            count_of_token = self.ngram_counter[(context, token)]\n",
        "            count_of_context = float(len(self.context[context]))\n",
        "            result = count_of_token / count_of_context\n",
        "\n",
        "        except KeyError:\n",
        "            result = 0.0\n",
        "        return result\n",
        "\n",
        "    def random_token(self, context):\n",
        "        \"\"\"\n",
        "        Given a context we \"semi-randomly\" select the next word to append in a sequence\n",
        "        :param context:\n",
        "        :return:\n",
        "        \"\"\"\n",
        "        r = random.random()\n",
        "        map_to_probs = {}\n",
        "        token_of_interest = self.context[context]\n",
        "        for token in token_of_interest:\n",
        "            map_to_probs[token] = self.prob(context, token)\n",
        "\n",
        "        summ = 0\n",
        "        for token in sorted(map_to_probs):\n",
        "#             return token\n",
        "            summ += map_to_probs[token]\n",
        "            if summ > r:\n",
        "                return token\n",
        "\n",
        "    def generate_text(self, token_count: int):\n",
        "        \"\"\"\n",
        "        :param token_count: number of words to be produced\n",
        "        :return: generated text\n",
        "        \"\"\"\n",
        "        n = self.n\n",
        "        context_queue = (n - 1) * ['<START>']\n",
        "        result = []\n",
        "        for _ in range(token_count):\n",
        "            obj = self.random_token(tuple(context_queue))\n",
        "            result.append(obj)\n",
        "            if n > 1:\n",
        "                context_queue.pop(0)\n",
        "                if obj == '.':\n",
        "                    context_queue = (n - 1) * ['<START>']\n",
        "                else:\n",
        "                    context_queue.append(obj)\n",
        "        return ' '.join(result)"
      ]
    },
    {
      "cell_type": "markdown",
      "id": "61312c3f",
      "metadata": {
        "id": "61312c3f"
      },
      "source": [
        "How can we add smoothing functionality?\n",
        "\n",
        "Why didn't we return the most probable token? (stay tuned for the rest of the materials)\n",
        "\n",
        "\n",
        "\n",
        "\n"
      ]
    },
    {
      "cell_type": "code",
      "execution_count": null,
      "id": "543fd79f",
      "metadata": {
        "id": "543fd79f"
      },
      "outputs": [],
      "source": [
        "def create_ngram_model(n, path):\n",
        "    m = NgramModel(n)\n",
        "    with open(path, 'r', encoding='utf-8') as f:\n",
        "        text = ' '.join([line.strip() for line in f.readlines() if not line.startswith('#')])\n",
        "        text = text.split('.')\n",
        "        text = random.sample(text, 20000)\n",
        "        for sentence in text:\n",
        "            # add back the fullstop\n",
        "            sentence += '.'\n",
        "            m.update(sentence)\n",
        "    return m"
      ]
    },
    {
      "cell_type": "code",
      "execution_count": null,
      "id": "36c6de0f",
      "metadata": {
        "id": "36c6de0f",
        "outputId": "e823af1c-0968-4e3c-a0a3-c1ba048b6ce9"
      },
      "outputs": [
        {
          "name": "stdout",
          "output_type": "stream",
          "text": [
            "Language Model creating time: 2.1449925899505615\n",
            "==================================================\n",
            "Generated text:\n",
            "در زمان صدام، به اين نوع بدرفتاری ها پاداش داده می شد . در ملاقات پرزيدنت بوش و آقای فاکس مسائل مهاجرتی در کانون مذاکرات بود، که همزمان با بحث های سنای آمريکا در مورد لايحه اصلاحات در قانون مهاجرت انجام گرفت . شوکت عزيز به تازگی در پی جلب رای موافق مجلس نمايندگان پاکستان واجد شرايط احراز مقام نخست وزيری شد . ارتش آمريکا نيز می گويد نيروهای ائتلاف امروز در جريان حمله ای در ايالت پکتيا در جنوب شرقی افغانستان مجروح شد . وزيران امورخارجه کشورهای عضو ناتو برای بررسی شماری ازمسائل، ازجمله احتمال عضويت اوکراين، يک اجلاس\n",
            "==================================================\n"
          ]
        }
      ],
      "source": [
        "if __name__ == \"__main__\":\n",
        "    start = time.time()\n",
        "    m = create_ngram_model(6, './voa_fa_2003-2008_orig.txt')\n",
        "\n",
        "    print (f'Language Model creating time: {time.time() - start}')\n",
        "    start = time.time()\n",
        "#     random.seed(44)\n",
        "    print(f'{\"=\"*50}\\nGenerated text:')\n",
        "    print(m.generate_text(100))\n",
        "    print(f'{\"=\"*50}')\n",
        "\n",
        "\n",
        "\n"
      ]
    },
    {
      "cell_type": "code",
      "execution_count": null,
      "id": "8df7fa69",
      "metadata": {
        "id": "8df7fa69"
      },
      "outputs": [],
      "source": []
    }
  ],
  "metadata": {
    "kernelspec": {
      "display_name": "Python 3",
      "language": "python",
      "name": "python3"
    },
    "language_info": {
      "codemirror_mode": {
        "name": "ipython",
        "version": 3
      },
      "file_extension": ".py",
      "mimetype": "text/x-python",
      "name": "python",
      "nbconvert_exporter": "python",
      "pygments_lexer": "ipython3",
      "version": "3.8.10"
    },
    "colab": {
      "provenance": []
    }
  },
  "nbformat": 4,
  "nbformat_minor": 5
}